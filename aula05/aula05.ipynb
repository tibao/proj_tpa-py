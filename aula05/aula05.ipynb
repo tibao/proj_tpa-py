{
 "cells": [
  {
   "cell_type": "markdown",
   "metadata": {},
   "source": [
    "# Aula 05 - Introdução ao List Comprehension e Format"
   ]
  },
  {
   "cell_type": "markdown",
   "metadata": {},
   "source": [
    "> Nessa aula iremos dar introdução ao list comprehension, uma forma mais simples de realizar conversões de valores entre duas ou mais listas. Atualmente  é uma das formas rápidas de aplicar conversões, substituindo as declarações mais extensas do que o metodo conversional, lambda e o map."
   ]
  },
  {
   "cell_type": "code",
   "execution_count": 6,
   "metadata": {},
   "outputs": [
    {
     "name": "stdout",
     "output_type": "stream",
     "text": [
      "(10, 20, 24, 35, 50)\n"
     ]
    }
   ],
   "source": [
    "celsius = (10,20,24,35,50)\n",
    "fahrenheit = [round (x*1.8+32,2) for x in celsius]\n",
    "print(celsius)"
   ]
  },
  {
   "cell_type": "markdown",
   "metadata": {},
   "source": [
    "# Exemplo 02 - Conversão de Kmh para Mph"
   ]
  },
  {
   "cell_type": "code",
   "execution_count": 26,
   "metadata": {},
   "outputs": [
    {
     "name": "stdout",
     "output_type": "stream",
     "text": [
      "(100, 25, 70, 80, 180)\n"
     ]
    }
   ],
   "source": [
    "kmh = (100, 25, 70, 80, 180)\n",
    "mph = (round(x/1.61,2)for x in kmh)\n",
    "print(kmh)"
   ]
  },
  {
   "cell_type": "code",
   "execution_count": 34,
   "metadata": {},
   "outputs": [
    {
     "name": "stdout",
     "output_type": "stream",
     "text": [
      "Kmh   Mph   \n",
      "==============\n"
     ]
    },
    {
     "ename": "TypeError",
     "evalue": "'generator' object is not subscriptable",
     "output_type": "error",
     "traceback": [
      "\u001b[1;31m---------------------------------------------------------------------------\u001b[0m",
      "\u001b[1;31mTypeError\u001b[0m                                 Traceback (most recent call last)",
      "Cell \u001b[1;32mIn[34], line 5\u001b[0m\n\u001b[0;32m      3\u001b[0m x \u001b[38;5;241m=\u001b[39m \u001b[38;5;241m0\u001b[39m\n\u001b[0;32m      4\u001b[0m \u001b[38;5;28;01mwhile\u001b[39;00m(x\u001b[38;5;241m<\u001b[39m\u001b[38;5;28mlen\u001b[39m(kmh)):\n\u001b[1;32m----> 5\u001b[0m    \u001b[38;5;28mprint\u001b[39m(\u001b[38;5;124m\"\u001b[39m\u001b[38;5;132;01m{:<6}\u001b[39;00m\u001b[38;5;132;01m{:<6}\u001b[39;00m\u001b[38;5;124m\"\u001b[39m\u001b[38;5;241m.\u001b[39mformat(kmh[x],\u001b[43mmph\u001b[49m\u001b[43m[\u001b[49m\u001b[43mx\u001b[49m\u001b[43m]\u001b[49m))\n\u001b[0;32m      6\u001b[0m    x \u001b[38;5;241m+\u001b[39m\u001b[38;5;241m=\u001b[39m \u001b[38;5;241m1\u001b[39m\n",
      "\u001b[1;31mTypeError\u001b[0m: 'generator' object is not subscriptable"
     ]
    }
   ],
   "source": [
    "print(\"{:<6}{:<6}\".format(\"Kmh\",\"Mph\"))\n",
    "print(\"==============\")\n",
    "x = 0\n",
    "while(x<len(kmh)):\n",
    "   print(\"{:<6}{:<6}\".format(kmh[x],mph[x]))\n",
    "   x += 1"
   ]
  },
  {
   "cell_type": "markdown",
   "metadata": {},
   "source": [
    "# Exercício 1"
   ]
  },
  {
   "cell_type": "markdown",
   "metadata": {},
   "source": [
    "> Crie um lista com 10 valores em metros. Crie uma tabela de conversão para polegadas, pés, jardas e mílhas marítimas. Listando o número da linha e o cabeçalho da tabela."
   ]
  },
  {
   "cell_type": "code",
   "execution_count": 11,
   "metadata": {},
   "outputs": [
    {
     "name": "stdout",
     "output_type": "stream",
     "text": [
      "Linha  Metros     Polegadas    Pés        Jardas     Milhas Marítimas\n",
      "----------------------------------------------------------------------\n",
      "1      1          39.37        3.28       1.09       0.000540       \n",
      "2      5          196.85       16.40      5.47       0.002700       \n",
      "3      10         393.70       32.81      10.94      0.005400       \n",
      "4      15         590.55       49.21      16.40      0.008099       \n",
      "5      20         787.40       65.62      21.87      0.010799       \n",
      "6      25         984.25       82.02      27.34      0.013499       \n",
      "7      30         1181.10      98.43      32.81      0.016199       \n",
      "8      35         1377.95      114.83     38.28      0.018898       \n",
      "9      40         1574.80      131.23     43.74      0.021598       \n",
      "10     50         1968.51      164.04     54.68      0.026998       \n"
     ]
    }
   ],
   "source": [
    "valoresmetros = [1, 5, 10, 15, 20, 25, 30, 35, 40, 50]\n",
    "header = [\"Linha\", \"Metros\", \"Polegadas\", \"Pés\", \"Jardas\", \"Milhas Marítimas\"]\n",
    "tabelaconversao = [\n",
    "    [i + 1,\n",
    "     valor,\n",
    "     valor * 39.3701,\n",
    "     valor * 3.28084,\n",
    "     valor * 1.09361,\n",
    "     valor * 0.000539957]\n",
    "    for i, valor in enumerate(valoresmetros)\n",
    "]\n",
    "print(f\"{header[0]:<6} {header[1]:<10} {header[2]:<12} {header[3]:<10} {header[4]:<10} {header[5]:<15}\")\n",
    "print(\"-\" * 70)\n",
    "for linha in tabelaconversao:\n",
    "    print(f\"{linha[0]:<6} {linha[1]:<10} {linha[2]:<12.2f} {linha[3]:<10.2f} {linha[4]:<10.2f} {linha[5]:<15.6f}\")\n"
   ]
  },
  {
   "cell_type": "markdown",
   "metadata": {},
   "source": [
    "# Exercício 2"
   ]
  },
  {
   "cell_type": "code",
   "execution_count": 17,
   "metadata": {},
   "outputs": [
    {
     "name": "stdout",
     "output_type": "stream",
     "text": [
      "Linha      Celsius    Fahrenheit\n",
      "1          0.00       32.00     \n",
      "2          26.85      80.33     \n",
      "3          76.85      170.33    \n",
      "4          126.85     260.33    \n",
      "5          176.85     350.33    \n",
      "6          226.85     440.33    \n",
      "7          276.85     530.33    \n",
      "8          326.85     620.33    \n",
      "9          376.85     710.33    \n",
      "10         426.85     800.33    \n"
     ]
    }
   ],
   "source": [
    "kelvin = [273.15, 300, 350, 400, 450, 500, 550, 600, 650, 700]\n",
    "print(\"{:<10} {:<10} {:<10}\".format(\"Linha\", \"Celsius\", \"Fahrenheit\"))\n",
    "for i, k in enumerate(kelvin):\n",
    "    celsius = k - 273.15\n",
    "    fahrenheit = (celsius * 9/5) + 32\n",
    "    print(\"{:<10} {:<10.2f} {:<10.2f}\".format(i + 1, celsius, fahrenheit))\n"
   ]
  },
  {
   "cell_type": "markdown",
   "metadata": {},
   "source": [
    "## Exercício 3\n",
    "> Crie uma lista de 10 pesos em kilos. Faça a conversão para o peso na Terra, Lua, Jupter, Saturno, Mercúrio. Monte uma tabela com o cabeçalho e a numeração conforme os exercícios passados."
   ]
  },
  {
   "cell_type": "code",
   "execution_count": 16,
   "metadata": {},
   "outputs": [
    {
     "name": "stdout",
     "output_type": "stream",
     "text": [
      "Linha  Quilos     Peso na Terra   Peso na Lua     Peso em Júpiter      Peso em Saturno Peso em Mercúrio\n",
      "-----------------------------------------------------------------------------------------------\n",
      "1      10         98.10           16.20           247.90               104.40          37.00          \n",
      "2      20         196.20          32.40           495.80               208.80          74.00          \n",
      "3      30         294.30          48.60           743.70               313.20          111.00         \n",
      "4      40         392.40          64.80           991.60               417.60          148.00         \n",
      "5      50         490.50          81.00           1239.50              522.00          185.00         \n",
      "6      60         588.60          97.20           1487.40              626.40          222.00         \n",
      "7      70         686.70          113.40          1735.30              730.80          259.00         \n",
      "8      80         784.80          129.60          1983.20              835.20          296.00         \n",
      "9      90         882.90          145.80          2231.10              939.60          333.00         \n",
      "10     100        981.00          162.00          2479.00              1044.00         370.00         \n"
     ]
    }
   ],
   "source": [
    "pesosquilos = [10, 20, 30, 40, 50, 60, 70, 80, 90, 100]\n",
    "gravidades = {\n",
    "    \"Terra\": 9.81,\n",
    "    \"Lua\": 1.62,\n",
    "    \"Júpiter\": 24.79,\n",
    "    \"Saturno\": 10.44,\n",
    "    \"Mercúrio\": 3.7\n",
    "}\n",
    "header = [\"Linha\", \"Quilos\", \"Peso na Terra\", \"Peso na Lua\", \"Peso em Júpiter\", \"Peso em Saturno\", \"Peso em Mercúrio\"]\n",
    "tabelapesos = [\n",
    "    [i + 1,\n",
    "     peso,\n",
    "     peso * gravidades[\"Terra\"],\n",
    "     peso * gravidades[\"Lua\"],\n",
    "     peso * gravidades[\"Júpiter\"],\n",
    "     peso * gravidades[\"Saturno\"],\n",
    "     peso * gravidades[\"Mercúrio\"]]\n",
    "    for i, peso in enumerate(pesosquilos)\n",
    "]\n",
    "print(f\"{header[0]:<6} {header[1]:<10} {header[2]:<15} {header[3]:<15} {header[4]:<20} {header[5]:<15} {header[6]:<15}\")\n",
    "print(\"-\" * 95)\n",
    "for linha in tabelapesos:\n",
    "    print(f\"{linha[0]:<6} {linha[1]:<10} {linha[2]:<15.2f} {linha[3]:<15.2f} {linha[4]:<20.2f} {linha[5]:<15.2f} {linha[6]:<15.2f}\")"
   ]
  }
 ],
 "metadata": {
  "kernelspec": {
   "display_name": "Python 3",
   "language": "python",
   "name": "python3"
  },
  "language_info": {
   "codemirror_mode": {
    "name": "ipython",
    "version": 3
   },
   "file_extension": ".py",
   "mimetype": "text/x-python",
   "name": "python",
   "nbconvert_exporter": "python",
   "pygments_lexer": "ipython3",
   "version": "3.12.2"
  }
 },
 "nbformat": 4,
 "nbformat_minor": 2
}
