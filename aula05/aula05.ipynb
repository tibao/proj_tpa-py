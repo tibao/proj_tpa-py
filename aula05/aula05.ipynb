{
 "cells": [
  {
   "cell_type": "markdown",
   "metadata": {},
   "source": [
    "# Aula 05 - Introdução ao List Comprehension e Format"
   ]
  },
  {
   "cell_type": "markdown",
   "metadata": {},
   "source": [
    "> Nessa aula iremos dar introdução ao list comprehension, uma forma mais simples de realizar conversões de valores entre duas ou mais listas. Atualmente  é uma das formas rápidas de aplicar conversões, substituindo as declarações mais extensas do que o metodo conversional, lambda e o map."
   ]
  },
  {
   "cell_type": "code",
   "execution_count": 6,
   "metadata": {},
   "outputs": [
    {
     "name": "stdout",
     "output_type": "stream",
     "text": [
      "(10, 20, 24, 35, 50)\n"
     ]
    }
   ],
   "source": [
    "celsius = (10,20,24,35,50)\n",
    "fahrenheit = [round (x*1.8+32,2) for x in celsius]\n",
    "print(celsius)"
   ]
  },
  {
   "cell_type": "markdown",
   "metadata": {},
   "source": [
    "# Exemplo 02 - Conversão de Kmh para Mph"
   ]
  },
  {
   "cell_type": "code",
   "execution_count": 26,
   "metadata": {},
   "outputs": [
    {
     "name": "stdout",
     "output_type": "stream",
     "text": [
      "(100, 25, 70, 80, 180)\n"
     ]
    }
   ],
   "source": [
    "kmh = (100, 25, 70, 80, 180)\n",
    "mph = (round(x/1.61,2)for x in kmh)\n",
    "print(kmh)"
   ]
  },
  {
   "cell_type": "code",
   "execution_count": 34,
   "metadata": {},
   "outputs": [
    {
     "name": "stdout",
     "output_type": "stream",
     "text": [
      "Kmh   Mph   \n",
      "==============\n"
     ]
    },
    {
     "ename": "TypeError",
     "evalue": "'generator' object is not subscriptable",
     "output_type": "error",
     "traceback": [
      "\u001b[1;31m---------------------------------------------------------------------------\u001b[0m",
      "\u001b[1;31mTypeError\u001b[0m                                 Traceback (most recent call last)",
      "Cell \u001b[1;32mIn[34], line 5\u001b[0m\n\u001b[0;32m      3\u001b[0m x \u001b[38;5;241m=\u001b[39m \u001b[38;5;241m0\u001b[39m\n\u001b[0;32m      4\u001b[0m \u001b[38;5;28;01mwhile\u001b[39;00m(x\u001b[38;5;241m<\u001b[39m\u001b[38;5;28mlen\u001b[39m(kmh)):\n\u001b[1;32m----> 5\u001b[0m    \u001b[38;5;28mprint\u001b[39m(\u001b[38;5;124m\"\u001b[39m\u001b[38;5;132;01m{:<6}\u001b[39;00m\u001b[38;5;132;01m{:<6}\u001b[39;00m\u001b[38;5;124m\"\u001b[39m\u001b[38;5;241m.\u001b[39mformat(kmh[x],\u001b[43mmph\u001b[49m\u001b[43m[\u001b[49m\u001b[43mx\u001b[49m\u001b[43m]\u001b[49m))\n\u001b[0;32m      6\u001b[0m    x \u001b[38;5;241m+\u001b[39m\u001b[38;5;241m=\u001b[39m \u001b[38;5;241m1\u001b[39m\n",
      "\u001b[1;31mTypeError\u001b[0m: 'generator' object is not subscriptable"
     ]
    }
   ],
   "source": [
    "print(\"{:<6}{:<6}\".format(\"Kmh\",\"Mph\"))\n",
    "print(\"==============\")\n",
    "x = 0\n",
    "while(x<len(kmh)):\n",
    "   print(\"{:<6}{:<6}\".format(kmh[x],mph[x]))\n",
    "   x += 1"
   ]
  },
  {
   "cell_type": "markdown",
   "metadata": {},
   "source": [
    "# Exercício 1"
   ]
  },
  {
   "cell_type": "markdown",
   "metadata": {},
   "source": [
    "> Crie um lista com 10 valores em metros. Crie uma tabela de conversão para polegadas, pés, jardas e mílhas marítimas. Listando o número da linha e o cabeçalho da tabela."
   ]
  },
  {
   "cell_type": "code",
   "execution_count": 44,
   "metadata": {},
   "outputs": [
    {
     "ename": "AttributeError",
     "evalue": "'tuple' object has no attribute 'sort'",
     "output_type": "error",
     "traceback": [
      "\u001b[1;31m---------------------------------------------------------------------------\u001b[0m",
      "\u001b[1;31mAttributeError\u001b[0m                            Traceback (most recent call last)",
      "Cell \u001b[1;32mIn[44], line 2\u001b[0m\n\u001b[0;32m      1\u001b[0m met\u001b[38;5;241m=\u001b[39m(\u001b[38;5;241m60\u001b[39m,\u001b[38;5;241m100\u001b[39m,\u001b[38;5;241m15\u001b[39m,\u001b[38;5;241m12\u001b[39m,\u001b[38;5;241m26\u001b[39m,\u001b[38;5;241m55\u001b[39m,\u001b[38;5;241m47\u001b[39m,\u001b[38;5;241m89\u001b[39m,\u001b[38;5;241m60\u001b[39m,\u001b[38;5;241m35\u001b[39m,\u001b[38;5;241m67\u001b[39m)\n\u001b[1;32m----> 2\u001b[0m \u001b[43mmet\u001b[49m\u001b[38;5;241;43m.\u001b[39;49m\u001b[43msort\u001b[49m()\n\u001b[0;32m      3\u001b[0m pol \u001b[38;5;241m=\u001b[39m[\u001b[38;5;28mround\u001b[39m(x\u001b[38;5;241m*\u001b[39m\u001b[38;5;241m39.37\u001b[39m,\u001b[38;5;241m2\u001b[39m)\u001b[38;5;28;01mfor\u001b[39;00m x \u001b[38;5;129;01min\u001b[39;00m met]\n\u001b[0;32m      4\u001b[0m pes \u001b[38;5;241m=\u001b[39m[\u001b[38;5;28mround\u001b[39m(x\u001b[38;5;241m*\u001b[39m\u001b[38;5;241m3.28\u001b[39m,\u001b[38;5;241m2\u001b[39m)\u001b[38;5;28;01mfor\u001b[39;00m x \u001b[38;5;129;01min\u001b[39;00m met]\n",
      "\u001b[1;31mAttributeError\u001b[0m: 'tuple' object has no attribute 'sort'"
     ]
    }
   ],
   "source": [
    "met=(60,100,15,12,26,55,47,89,60,35,67)\n",
    "met.sort()\n",
    "pol =[round(x*39.37,2)for x in met]\n",
    "pes =[round(x*3.28,2)for x in met]\n",
    "jar =[round(x*1.09,2)for x in met]\n",
    "mil =[round((x*0.6214)/1000,3)for x in met]\n",
    "\n",
    "print(\"{:<5}{:<5}{:<10}{:<9}{:<8}{:<8}\".format(\"N°\",\"m\",\"in\",\"ft\",\"yd\",\"mi\"))\n",
    "print(\"=============================================\")\n",
    "for v in range(0,len(met),1):\n",
    "    print(\"{:<5}{:<5}{:<10}{:<9}{:<8}{:<8}\".format(v+1,met[v],pol[v],pes[v],jar[v],mil[v]))\n"
   ]
  },
  {
   "cell_type": "code",
   "execution_count": null,
   "metadata": {},
   "outputs": [],
   "source": [
    "k = [100,200,120,170,205,24,]"
   ]
  },
  {
   "cell_type": "markdown",
   "metadata": {},
   "source": [
    "## Exercício 3\n",
    "> Crie uma lista de 10 pesos em kilos. Faça a conversão para o peso na Terra, Lua, Jupter, Saturno, Mercúrio. Monte uma tabela com o cabeçalho e a numeração conforme os exercícios passados."
   ]
  }
 ],
 "metadata": {
  "kernelspec": {
   "display_name": "Python 3",
   "language": "python",
   "name": "python3"
  },
  "language_info": {
   "codemirror_mode": {
    "name": "ipython",
    "version": 3
   },
   "file_extension": ".py",
   "mimetype": "text/x-python",
   "name": "python",
   "nbconvert_exporter": "python",
   "pygments_lexer": "ipython3",
   "version": "3.12.2"
  }
 },
 "nbformat": 4,
 "nbformat_minor": 2
}
